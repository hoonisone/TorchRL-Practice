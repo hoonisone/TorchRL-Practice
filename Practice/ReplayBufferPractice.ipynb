{
 "cells": [
  {
   "cell_type": "code",
   "execution_count": 27,
   "id": "b060d522",
   "metadata": {},
   "outputs": [],
   "source": [
    "import torch\n",
    "from tensordict import TensorDict\n",
    "from torchrl.data import PrioritizedReplayBuffer, ReplayBuffer"
   ]
  },
  {
   "cell_type": "markdown",
   "id": "b3f1ec24",
   "metadata": {},
   "source": [
    "### Replay Buffer 생성"
   ]
  },
  {
   "cell_type": "code",
   "execution_count": 20,
   "id": "bb9485dd",
   "metadata": {},
   "outputs": [],
   "source": [
    "rb = ReplayBuffer()"
   ]
  },
  {
   "cell_type": "markdown",
   "id": "c944cd88",
   "metadata": {},
   "source": [
    "### Sample 추가"
   ]
  },
  {
   "cell_type": "code",
   "execution_count": 21,
   "id": "91e868d4",
   "metadata": {},
   "outputs": [
    {
     "data": {
      "text/plain": [
       "0"
      ]
     },
     "execution_count": 21,
     "metadata": {},
     "output_type": "execute_result"
    }
   ],
   "source": [
    "rb.add(1) # 단일 샘플 추가\n",
    "# 반환값은 샘플 리스트에서의 추가된 샘플의 index"
   ]
  },
  {
   "cell_type": "code",
   "execution_count": 22,
   "id": "525100a6",
   "metadata": {},
   "outputs": [
    {
     "data": {
      "text/plain": [
       "array([1, 2, 3])"
      ]
     },
     "execution_count": 22,
     "metadata": {},
     "output_type": "execute_result"
    }
   ],
   "source": [
    "rb.extend([1, 2, 3]) # 다중 샘플 일괄적 추가"
   ]
  },
  {
   "cell_type": "markdown",
   "id": "0c36cbaf",
   "metadata": {},
   "source": [
    "### Sample 추출"
   ]
  },
  {
   "cell_type": "code",
   "execution_count": 23,
   "id": "ed784da7",
   "metadata": {},
   "outputs": [
    {
     "data": {
      "text/plain": [
       "tensor([1, 1, 1, 1, 3, 3, 3, 2, 1, 1])"
      ]
     },
     "execution_count": 23,
     "metadata": {},
     "output_type": "execute_result"
    }
   ],
   "source": [
    "num_to_sample = 10\n",
    "rb.sample(num_to_sample)"
   ]
  },
  {
   "cell_type": "code",
   "execution_count": 36,
   "id": "68723190",
   "metadata": {},
   "outputs": [
    {
     "data": {
      "text/plain": [
       "1"
      ]
     },
     "execution_count": 36,
     "metadata": {},
     "output_type": "execute_result"
    }
   ],
   "source": [
    "collate_fn = torch.stack\n",
    "rb = ReplayBuffer(collate_fn=collate_fn)\n",
    "rb.add(TensorDict({\"a\": torch.randn(3)}, batch_size=[]))\n",
    "len(rb)"
   ]
  },
  {
   "cell_type": "code",
   "execution_count": 41,
   "id": "721eac7c",
   "metadata": {},
   "outputs": [
    {
     "name": "stdout",
     "output_type": "stream",
     "text": [
      "11\n"
     ]
    },
    {
     "data": {
      "text/plain": [
       "LazyStackedTensorDict(\n",
       "    fields={\n",
       "        a: Tensor(shape=torch.Size([10, 3]), device=cpu, dtype=torch.float32, is_shared=False)},\n",
       "    batch_size=torch.Size([10]),\n",
       "    device=None,\n",
       "    is_shared=False)"
      ]
     },
     "execution_count": 41,
     "metadata": {},
     "output_type": "execute_result"
    }
   ],
   "source": [
    "rb.extend(TensorDict({\"a\": torch.randn(2, 3)}, batch_size=[2]))\n",
    "print(len(rb))\n",
    "rb.sample(10)"
   ]
  },
  {
   "cell_type": "code",
   "execution_count": 47,
   "id": "1c856011",
   "metadata": {},
   "outputs": [
    {
     "data": {
      "text/plain": [
       "LazyStackedTensorDict(\n",
       "    fields={\n",
       "        a: Tensor(shape=torch.Size([2, 10, 3]), device=cpu, dtype=torch.float32, is_shared=False)},\n",
       "    batch_size=torch.Size([2, 10]),\n",
       "    device=None,\n",
       "    is_shared=False)"
      ]
     },
     "execution_count": 47,
     "metadata": {},
     "output_type": "execute_result"
    }
   ],
   "source": [
    "td1 = TensorDict({\"a\": torch.randn(10, 3)}, batch_size=[10])\n",
    "td2 = TensorDict({\"a\": torch.randn(10, 3)}, batch_size=[10])\n",
    "torch.stack([td1, td2])"
   ]
  },
  {
   "cell_type": "code",
   "execution_count": null,
   "id": "d3ba1b6a",
   "metadata": {},
   "outputs": [],
   "source": []
  }
 ],
 "metadata": {
  "kernelspec": {
   "display_name": "torchrl",
   "language": "python",
   "name": "torchrl"
  },
  "language_info": {
   "codemirror_mode": {
    "name": "ipython",
    "version": 3
   },
   "file_extension": ".py",
   "mimetype": "text/x-python",
   "name": "python",
   "nbconvert_exporter": "python",
   "pygments_lexer": "ipython3",
   "version": "3.10.11"
  }
 },
 "nbformat": 4,
 "nbformat_minor": 5
}
