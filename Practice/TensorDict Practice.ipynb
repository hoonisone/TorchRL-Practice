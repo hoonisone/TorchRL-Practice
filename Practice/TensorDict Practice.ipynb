{
 "cells": [
  {
   "cell_type": "code",
   "execution_count": 20,
   "id": "f637ecc6",
   "metadata": {},
   "outputs": [],
   "source": [
    "import torch\n",
    "from tensordict import TensorDict"
   ]
  },
  {
   "cell_type": "markdown",
   "id": "caf3cb8e",
   "metadata": {},
   "source": [
    "### TorchDict 생성\n",
    "- 서로 다른 shape를 갖는 둘 이상의 tensor를 묶을 때 사용한다."
   ]
  },
  {
   "cell_type": "code",
   "execution_count": 22,
   "id": "62ca3c11",
   "metadata": {},
   "outputs": [
    {
     "name": "stdout",
     "output_type": "stream",
     "text": [
      "TensorDict(\n",
      "    fields={\n",
      "        key 1: Tensor(shape=torch.Size([5, 3]), device=cpu, dtype=torch.float32, is_shared=False),\n",
      "        key 2: Tensor(shape=torch.Size([5, 5, 6]), device=cpu, dtype=torch.bool, is_shared=False)},\n",
      "    batch_size=torch.Size([5]),\n",
      "    device=None,\n",
      "    is_shared=False)\n"
     ]
    }
   ],
   "source": [
    "batch_size = 5\n",
    "tensordict = TensorDict(\n",
    "    source={\n",
    "        \"key 1\": torch.rand(batch_size, 3),                          # tensor 1\n",
    "        \"key 2\": torch.zeros(batch_size, 5, 6, dtype=torch.bool),    # tensor 2  서로 type(shape, dtype)이 다르다.\n",
    "    },\n",
    "    batch_size=[batch_size], # tensor 묶음이 총 몇개 있는지\n",
    ")\n",
    "# 생성 시 각 source의 요소들은 동일한 batch_size(최고 차원 크기)가 같아야 한다.\n",
    "# 하나의 tensor 묶음 객체가 batch_size만큼 있는 것이다.\n",
    "# 이것은 tensor 연산시 마치 tensor안에 하나의 item 처럼 작동할 수 있다.\n",
    "print(tensordict)"
   ]
  },
  {
   "cell_type": "markdown",
   "id": "cddfda5e",
   "metadata": {},
   "source": [
    "### 값 참조\n",
    "- index 접근:batch-size개의 tensor 묶음중에 index에 해당하는 객체를 반환한다.\n",
    "- key 접근: batch-size개의 tensor 묶음 객체들에 대해 key에 해당하는 요소만 추출하여 리스트 형태의 tensor로 반환한다."
   ]
  },
  {
   "cell_type": "code",
   "execution_count": 27,
   "id": "d3292416",
   "metadata": {},
   "outputs": [
    {
     "data": {
      "text/plain": [
       "TensorDict(\n",
       "    fields={\n",
       "        key 1: Tensor(shape=torch.Size([3]), device=cpu, dtype=torch.float32, is_shared=False),\n",
       "        key 2: Tensor(shape=torch.Size([5, 6]), device=cpu, dtype=torch.bool, is_shared=False)},\n",
       "    batch_size=torch.Size([]),\n",
       "    device=None,\n",
       "    is_shared=False)"
      ]
     },
     "execution_count": 27,
     "metadata": {},
     "output_type": "execute_result"
    }
   ],
   "source": [
    "index = 0\n",
    "tensordict[index]"
   ]
  },
  {
   "cell_type": "code",
   "execution_count": 26,
   "id": "766f1ef7",
   "metadata": {},
   "outputs": [
    {
     "data": {
      "text/plain": [
       "tensor([[0.0183, 0.5052, 0.9163],\n",
       "        [0.3209, 0.9346, 0.7065],\n",
       "        [0.2700, 0.3993, 0.3014],\n",
       "        [0.2569, 0.0545, 0.5903],\n",
       "        [0.2624, 0.6200, 0.6467]])"
      ]
     },
     "execution_count": 26,
     "metadata": {},
     "output_type": "execute_result"
    }
   ],
   "source": [
    "key = \"key 1\"\n",
    "tensordict[key]"
   ]
  },
  {
   "cell_type": "code",
   "execution_count": null,
   "id": "4af235f8",
   "metadata": {},
   "outputs": [],
   "source": []
  }
 ],
 "metadata": {
  "kernelspec": {
   "display_name": "torchrl",
   "language": "python",
   "name": "torchrl"
  },
  "language_info": {
   "codemirror_mode": {
    "name": "ipython",
    "version": 3
   },
   "file_extension": ".py",
   "mimetype": "text/x-python",
   "name": "python",
   "nbconvert_exporter": "python",
   "pygments_lexer": "ipython3",
   "version": "3.10.11"
  }
 },
 "nbformat": 4,
 "nbformat_minor": 5
}
